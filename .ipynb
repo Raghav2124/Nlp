{
 "cells": [
  {
   "cell_type": "code",
   "execution_count": null,
   "metadata": {},
   "outputs": [],
   "source": [
    "import gzip\n",
    "import shutil\n",
    "import sys\n",
    " \n",
    "input_file = 'E:\\cc.en.300.bin.gz'\n",
    "output_file = input_file.rstrip('.gz')\n",
    " \n",
    "with gzip.open(input_file, 'rb') as f_in, open(output_file, 'wb') as f_out:\n",
    "    shutil.copyfileobj(f_in, f_out)"
   ]
  },
  {
   "cell_type": "code",
   "execution_count": null,
   "metadata": {},
   "outputs": [],
   "source": []
  }
 ],
 "metadata": {
  "language_info": {
   "name": "python"
  }
 },
 "nbformat": 4,
 "nbformat_minor": 2
}
