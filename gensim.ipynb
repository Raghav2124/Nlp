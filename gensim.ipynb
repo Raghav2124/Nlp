{
 "cells": [
  {
   "cell_type": "code",
   "execution_count": 1,
   "id": "6da865d3",
   "metadata": {},
   "outputs": [],
   "source": [
    "import gensim.downloader as api"
   ]
  },
  {
   "cell_type": "code",
   "execution_count": 11,
   "id": "022cd724",
   "metadata": {},
   "outputs": [
    {
     "name": "stdout",
     "output_type": "stream",
     "text": [
      "[==================================================] 100.0% 1662.8/1662.8MB downloaded\n"
     ]
    }
   ],
   "source": [
    "wv=api.load(\"word2vec-google-news-300\")"
   ]
  },
  {
   "cell_type": "code",
   "execution_count": null,
   "id": "8badccf9",
   "metadata": {},
   "outputs": [],
   "source": [
    "wv.similarity(w1=\"great\",w2=\"good\")"
   ]
  },
  {
   "cell_type": "code",
   "execution_count": null,
   "id": "5fca838b",
   "metadata": {},
   "outputs": [],
   "source": [
    "wv.similarity(w1=\"profit\",w2=\"gain\")"
   ]
  },
  {
   "cell_type": "code",
   "execution_count": null,
   "id": "1aaae648",
   "metadata": {},
   "outputs": [],
   "source": [
    "wv.most_similar(\"good\")"
   ]
  },
  {
   "cell_type": "code",
   "execution_count": null,
   "id": "850157db",
   "metadata": {},
   "outputs": [],
   "source": [
    "# I wa sfeeling good as it was a holiday .... I was feeling bad as it was Monday\n",
    "# King -man+woman=Queen\n",
    "# France- Paris+German=Berlin\n",
    "wv_great=wv[\"great\"]\n",
    "wv_good=wv[\"good\"]"
   ]
  },
  {
   "cell_type": "code",
   "execution_count": 4,
   "id": "7a94a4cd",
   "metadata": {},
   "outputs": [
    {
     "name": "stderr",
     "output_type": "stream",
     "text": [
      "C:\\Users\\raghav.aggarwal\\AppData\\Local\\anaconda3\\Lib\\site-packages\\pandas\\core\\arrays\\masked.py:60: UserWarning: Pandas requires version '1.3.6' or newer of 'bottleneck' (version '1.3.5' currently installed).\n",
      "  from pandas.core import (\n"
     ]
    }
   ],
   "source": [
    "import pandas as pd\n",
    "df=pd.read_csv(\"fake_and_real_news.csv\")"
   ]
  },
  {
   "cell_type": "code",
   "execution_count": 5,
   "id": "b3242efc",
   "metadata": {},
   "outputs": [
    {
     "data": {
      "text/plain": [
       "(9900, 2)"
      ]
     },
     "execution_count": 5,
     "metadata": {},
     "output_type": "execute_result"
    }
   ],
   "source": [
    "df.shape"
   ]
  },
  {
   "cell_type": "code",
   "execution_count": 6,
   "id": "f9856424",
   "metadata": {},
   "outputs": [
    {
     "data": {
      "text/html": [
       "<div>\n",
       "<style scoped>\n",
       "    .dataframe tbody tr th:only-of-type {\n",
       "        vertical-align: middle;\n",
       "    }\n",
       "\n",
       "    .dataframe tbody tr th {\n",
       "        vertical-align: top;\n",
       "    }\n",
       "\n",
       "    .dataframe thead th {\n",
       "        text-align: right;\n",
       "    }\n",
       "</style>\n",
       "<table border=\"1\" class=\"dataframe\">\n",
       "  <thead>\n",
       "    <tr style=\"text-align: right;\">\n",
       "      <th></th>\n",
       "      <th>Text</th>\n",
       "      <th>label</th>\n",
       "    </tr>\n",
       "  </thead>\n",
       "  <tbody>\n",
       "    <tr>\n",
       "      <th>0</th>\n",
       "      <td>Top Trump Surrogate BRUTALLY Stabs Him In The...</td>\n",
       "      <td>Fake</td>\n",
       "    </tr>\n",
       "    <tr>\n",
       "      <th>1</th>\n",
       "      <td>U.S. conservative leader optimistic of common ...</td>\n",
       "      <td>Real</td>\n",
       "    </tr>\n",
       "    <tr>\n",
       "      <th>2</th>\n",
       "      <td>Trump proposes U.S. tax overhaul, stirs concer...</td>\n",
       "      <td>Real</td>\n",
       "    </tr>\n",
       "    <tr>\n",
       "      <th>3</th>\n",
       "      <td>Court Forces Ohio To Allow Millions Of Illega...</td>\n",
       "      <td>Fake</td>\n",
       "    </tr>\n",
       "    <tr>\n",
       "      <th>4</th>\n",
       "      <td>Democrats say Trump agrees to work on immigrat...</td>\n",
       "      <td>Real</td>\n",
       "    </tr>\n",
       "  </tbody>\n",
       "</table>\n",
       "</div>"
      ],
      "text/plain": [
       "                                                Text label\n",
       "0   Top Trump Surrogate BRUTALLY Stabs Him In The...  Fake\n",
       "1  U.S. conservative leader optimistic of common ...  Real\n",
       "2  Trump proposes U.S. tax overhaul, stirs concer...  Real\n",
       "3   Court Forces Ohio To Allow Millions Of Illega...  Fake\n",
       "4  Democrats say Trump agrees to work on immigrat...  Real"
      ]
     },
     "execution_count": 6,
     "metadata": {},
     "output_type": "execute_result"
    }
   ],
   "source": [
    "df.head()"
   ]
  },
  {
   "cell_type": "code",
   "execution_count": 7,
   "id": "dcedb292",
   "metadata": {},
   "outputs": [
    {
     "data": {
      "text/plain": [
       "label\n",
       "Fake    5000\n",
       "Real    4900\n",
       "Name: count, dtype: int64"
      ]
     },
     "execution_count": 7,
     "metadata": {},
     "output_type": "execute_result"
    }
   ],
   "source": [
    "df[\"label\"].value_counts()"
   ]
  },
  {
   "cell_type": "code",
   "execution_count": 8,
   "id": "ceccb24e",
   "metadata": {},
   "outputs": [
    {
     "data": {
      "text/html": [
       "<div>\n",
       "<style scoped>\n",
       "    .dataframe tbody tr th:only-of-type {\n",
       "        vertical-align: middle;\n",
       "    }\n",
       "\n",
       "    .dataframe tbody tr th {\n",
       "        vertical-align: top;\n",
       "    }\n",
       "\n",
       "    .dataframe thead th {\n",
       "        text-align: right;\n",
       "    }\n",
       "</style>\n",
       "<table border=\"1\" class=\"dataframe\">\n",
       "  <thead>\n",
       "    <tr style=\"text-align: right;\">\n",
       "      <th></th>\n",
       "      <th>Text</th>\n",
       "      <th>label</th>\n",
       "      <th>label_num</th>\n",
       "    </tr>\n",
       "  </thead>\n",
       "  <tbody>\n",
       "    <tr>\n",
       "      <th>0</th>\n",
       "      <td>Top Trump Surrogate BRUTALLY Stabs Him In The...</td>\n",
       "      <td>Fake</td>\n",
       "      <td>0</td>\n",
       "    </tr>\n",
       "    <tr>\n",
       "      <th>1</th>\n",
       "      <td>U.S. conservative leader optimistic of common ...</td>\n",
       "      <td>Real</td>\n",
       "      <td>1</td>\n",
       "    </tr>\n",
       "    <tr>\n",
       "      <th>2</th>\n",
       "      <td>Trump proposes U.S. tax overhaul, stirs concer...</td>\n",
       "      <td>Real</td>\n",
       "      <td>1</td>\n",
       "    </tr>\n",
       "    <tr>\n",
       "      <th>3</th>\n",
       "      <td>Court Forces Ohio To Allow Millions Of Illega...</td>\n",
       "      <td>Fake</td>\n",
       "      <td>0</td>\n",
       "    </tr>\n",
       "    <tr>\n",
       "      <th>4</th>\n",
       "      <td>Democrats say Trump agrees to work on immigrat...</td>\n",
       "      <td>Real</td>\n",
       "      <td>1</td>\n",
       "    </tr>\n",
       "  </tbody>\n",
       "</table>\n",
       "</div>"
      ],
      "text/plain": [
       "                                                Text label  label_num\n",
       "0   Top Trump Surrogate BRUTALLY Stabs Him In The...  Fake          0\n",
       "1  U.S. conservative leader optimistic of common ...  Real          1\n",
       "2  Trump proposes U.S. tax overhaul, stirs concer...  Real          1\n",
       "3   Court Forces Ohio To Allow Millions Of Illega...  Fake          0\n",
       "4  Democrats say Trump agrees to work on immigrat...  Real          1"
      ]
     },
     "execution_count": 8,
     "metadata": {},
     "output_type": "execute_result"
    }
   ],
   "source": [
    "#Add the new column which gives a unique number to each of these labels \n",
    "\n",
    "df['label_num'] = df['label'].map({'Fake' : 0, 'Real': 1})\n",
    "\n",
    "#check the results with top 5 rows\n",
    "df.head(5)"
   ]
  },
  {
   "cell_type": "code",
   "execution_count": 12,
   "id": "03be8697",
   "metadata": {},
   "outputs": [],
   "source": [
    "import spacy\n",
    "nlp = spacy.load(\"en_core_web_lg\") # if this fails then run \"python -m spacy download en_core_web_lg\" to download that model\n",
    "\n",
    "def preprocess_and_vectorize(text):\n",
    "    # remove stop words and lemmatize the text\n",
    "    doc = nlp(text)\n",
    "    filtered_tokens = []\n",
    "    for token in doc:\n",
    "        if token.is_stop or token.is_punct:\n",
    "            continue\n",
    "        filtered_tokens.append(token.lemma_)\n",
    "        \n",
    "    return wv.get_mean_vector(filtered_tokens)"
   ]
  },
  {
   "cell_type": "code",
   "execution_count": 13,
   "id": "317c997c",
   "metadata": {},
   "outputs": [
    {
     "data": {
      "text/plain": [
       "array([ 0.00235079, -0.00284596, -0.03638233,  0.00413919, -0.10635224,\n",
       "        0.05758579,  0.13348952, -0.00689176,  0.05995331, -0.02875906,\n",
       "       -0.02279907, -0.06939262, -0.01549996,  0.03538099, -0.0873947 ,\n",
       "        0.10044542,  0.02490648,  0.11501945,  0.00442711, -0.07228819,\n",
       "       -0.04447255,  0.02785169,  0.03338735,  0.02222995,  0.07053161,\n",
       "        0.06723307,  0.03483712, -0.0873695 ,  0.04152397, -0.0969665 ,\n",
       "       -0.00914938,  0.00555944, -0.0277799 , -0.00701522,  0.05281431,\n",
       "       -0.01066206,  0.02466576,  0.02378148,  0.0279402 ,  0.05527755,\n",
       "        0.01359304, -0.01062085,  0.06734448, -0.03492254, -0.08421434,\n",
       "       -0.04324378, -0.03578918, -0.00817786, -0.02093195,  0.01856531,\n",
       "       -0.07064191,  0.05023994, -0.03036207, -0.0412168 , -0.00684169,\n",
       "        0.05189689, -0.04097777, -0.05789134,  0.044417  , -0.0470418 ,\n",
       "       -0.01475445,  0.01373999, -0.00459672,  0.00419459,  0.04307397,\n",
       "       -0.01500929, -0.08037488,  0.05358911, -0.0211829 , -0.00526253,\n",
       "        0.03918403,  0.04980108,  0.05149292, -0.02760597, -0.10414234,\n",
       "       -0.02358125,  0.01588048,  0.08794019,  0.02101067,  0.12986097,\n",
       "       -0.03165637,  0.04050155,  0.03682444,  0.040462  , -0.05560045,\n",
       "       -0.04289893, -0.0918161 ,  0.05959024,  0.00470191, -0.0232439 ,\n",
       "        0.00560733, -0.00577845, -0.06879626, -0.03633031, -0.02900399,\n",
       "       -0.04766011,  0.07934985,  0.00162647,  0.02277142,  0.02039685,\n",
       "       -0.04815039,  0.01239679, -0.00273225,  0.04066541,  0.01718738,\n",
       "        0.00625888, -0.01593183, -0.01934362,  0.05761226, -0.0331227 ,\n",
       "       -0.06559531, -0.05737359, -0.01415279,  0.00814293, -0.00914533,\n",
       "       -0.04018348,  0.06907931, -0.01761438, -0.04850446,  0.03578102,\n",
       "       -0.09473305,  0.0754801 , -0.0717351 ,  0.07410301, -0.01351144,\n",
       "       -0.06917487, -0.08305064,  0.02122197, -0.03204587, -0.03061295,\n",
       "        0.03981462, -0.09745683, -0.02837887,  0.01508353,  0.08710912,\n",
       "       -0.07773352,  0.02312475,  0.11828712,  0.02502898,  0.01062398,\n",
       "        0.02528481, -0.05621869, -0.01414752, -0.0054199 , -0.01355326,\n",
       "        0.00094675,  0.02235291, -0.01592062, -0.01313769, -0.08265737,\n",
       "       -0.01484838,  0.0081862 , -0.01607498,  0.00671422, -0.00992151,\n",
       "        0.01070912, -0.0982562 , -0.03244599, -0.10865653,  0.00107146,\n",
       "        0.06166647,  0.0420246 , -0.02478091, -0.06187486,  0.04542562,\n",
       "       -0.01792098,  0.02203037, -0.04716108,  0.05974475,  0.02451983,\n",
       "       -0.05880933,  0.00202552,  0.03811581, -0.00530442,  0.01021047,\n",
       "        0.00424089,  0.07840483,  0.00195731, -0.02595322, -0.01481547,\n",
       "       -0.00551981,  0.0238276 ,  0.12479315,  0.02065411, -0.0310494 ,\n",
       "       -0.00850888, -0.0311881 ,  0.00917857, -0.03004361,  0.0576644 ,\n",
       "       -0.04041921, -0.06032866,  0.04549592,  0.03322048, -0.01644383,\n",
       "       -0.00503511, -0.01896849,  0.01606871,  0.00400032, -0.06011828,\n",
       "        0.04199673,  0.00505777, -0.08229659, -0.01548028, -0.03333327,\n",
       "        0.00798658, -0.02941441, -0.02521159, -0.02466976, -0.03208973,\n",
       "       -0.0048754 ,  0.10096999, -0.00099747, -0.06560291, -0.09302893,\n",
       "       -0.02929383,  0.03191192, -0.06449024, -0.06151631, -0.03464489,\n",
       "       -0.00879403, -0.04896098, -0.05396915, -0.03790915, -0.00337401,\n",
       "       -0.11016175,  0.01955169,  0.00305599, -0.04357597, -0.0177894 ,\n",
       "       -0.00359144, -0.00470547,  0.05034078,  0.03830646,  0.03219876,\n",
       "        0.02305124,  0.00910473, -0.04350092, -0.02903038, -0.0315236 ,\n",
       "       -0.07043763,  0.03806581, -0.00331466,  0.0275654 , -0.10277379,\n",
       "        0.02215285,  0.02834682,  0.02572182, -0.01758924, -0.02523402,\n",
       "       -0.00754319,  0.0332179 ,  0.06108168,  0.0282419 , -0.02518045,\n",
       "       -0.0372708 , -0.02340444,  0.05284173, -0.02049535,  0.01781087,\n",
       "       -0.01642074, -0.00814359, -0.09242941,  0.02235497, -0.01418123,\n",
       "        0.04997897,  0.03673173, -0.03368299, -0.04099576, -0.01646286,\n",
       "       -0.00386522,  0.06183865,  0.10663132, -0.01943116, -0.03759148,\n",
       "       -0.07059436, -0.07094096, -0.08852433,  0.01143012, -0.06681544,\n",
       "        0.02912416, -0.04444458,  0.0345265 ,  0.00576102,  0.01349037,\n",
       "       -0.00558232, -0.04241272,  0.09029818,  0.05358769,  0.00822992,\n",
       "       -0.00130868,  0.01569558,  0.00255671, -0.00992117, -0.06574745,\n",
       "       -0.03867856, -0.03263403, -0.01895184,  0.07239452, -0.00496437],\n",
       "      dtype=float32)"
      ]
     },
     "execution_count": 13,
     "metadata": {},
     "output_type": "execute_result"
    }
   ],
   "source": [
    "preprocess_and_vectorize(\"Don't worrying if you don't understand\")"
   ]
  },
  {
   "cell_type": "code",
   "execution_count": null,
   "id": "e9acc4b7",
   "metadata": {},
   "outputs": [],
   "source": []
  }
 ],
 "metadata": {
  "kernelspec": {
   "display_name": "Python 3 (ipykernel)",
   "language": "python",
   "name": "python3"
  },
  "language_info": {
   "codemirror_mode": {
    "name": "ipython",
    "version": 3
   },
   "file_extension": ".py",
   "mimetype": "text/x-python",
   "name": "python",
   "nbconvert_exporter": "python",
   "pygments_lexer": "ipython3",
   "version": "3.11.5"
  }
 },
 "nbformat": 4,
 "nbformat_minor": 5
}
