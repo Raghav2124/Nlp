{
 "cells": [
  {
   "cell_type": "code",
   "execution_count": 1,
   "id": "658c014b",
   "metadata": {},
   "outputs": [],
   "source": [
    "import gzip\n",
    "import shutil\n",
    "import sys\n",
    " \n",
    "input_file = 'E:\\cc.en.300.bin.gz'\n",
    "output_file = input_file.rstrip('.gz')\n",
    " \n",
    "with gzip.open(input_file, 'rb') as f_in, open(output_file, 'wb') as f_out:\n",
    "    shutil.copyfileobj(f_in, f_out)"
   ]
  },
  {
   "cell_type": "code",
   "execution_count": null,
   "id": "c78e91a8",
   "metadata": {},
   "outputs": [],
   "source": []
  }
 ],
 "metadata": {
  "kernelspec": {
   "display_name": "Python 3 (ipykernel)",
   "language": "python",
   "name": "python3"
  },
  "language_info": {
   "codemirror_mode": {
    "name": "ipython",
    "version": 3
   },
   "file_extension": ".py",
   "mimetype": "text/x-python",
   "name": "python",
   "nbconvert_exporter": "python",
   "pygments_lexer": "ipython3",
   "version": "3.11.5"
  }
 },
 "nbformat": 4,
 "nbformat_minor": 5
}
